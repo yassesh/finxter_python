{
 "cells": [
  {
   "cell_type": "code",
   "execution_count": 2,
   "metadata": {},
   "outputs": [],
   "source": [
    "import pandas as pd\n",
    "import numpy as np"
   ]
  },
  {
   "cell_type": "code",
   "execution_count": 3,
   "metadata": {},
   "outputs": [],
   "source": [
    "dataset_path = \"./my_movies.csv\"\n",
    "df = pd.read_csv(dataset_path)\n"
   ]
  },
  {
   "cell_type": "code",
   "execution_count": 17,
   "metadata": {},
   "outputs": [],
   "source": [
    "def get_movie_title(summary):\n",
    "    # Load the \"movies.csv\" file into a DataFrame\n",
    "    movies_df = pd.read_csv(\"my_movies.csv\")\n",
    "    \n",
    "    # Filter the DataFrame to only keep rows where the summary matches the input\n",
    "    matching_movies = movies_df[movies_df[\"Summary\"] == summary]\n",
    "    \n",
    "    # If there are no matching movies, return None\n",
    "    if len(matching_movies) == 0:\n",
    "        return None\n",
    "    \n",
    "    # Otherwise, return the title of the first matching movie\n",
    "    return matching_movies.iloc[0][\"Title\"]"
   ]
  },
  {
   "cell_type": "code",
   "execution_count": 18,
   "metadata": {},
   "outputs": [
    {
     "name": "stdout",
     "output_type": "stream",
     "text": [
      "Ideal Home\n"
     ]
    }
   ],
   "source": [
    "my_title = get_movie_title(\"Steve Coogan and Paul Rudd star as Erasmus and Paul, a bickering gay couple whose life is turned inside out when a ten-year old boy shows up at their door claiming to be Erasmus' grandson. Neither Paul, nor Erasmus, are ready to give up their extravagant lifestyles to be parents, but maybe this little kid has a thing or two to teach them about the value of family.\")\n",
    "print(my_title)"
   ]
  }
 ],
 "metadata": {
  "kernelspec": {
   "display_name": "Python 3",
   "language": "python",
   "name": "python3"
  },
  "language_info": {
   "codemirror_mode": {
    "name": "ipython",
    "version": 3
   },
   "file_extension": ".py",
   "mimetype": "text/x-python",
   "name": "python",
   "nbconvert_exporter": "python",
   "pygments_lexer": "ipython3",
   "version": "3.11.2"
  },
  "orig_nbformat": 4
 },
 "nbformat": 4,
 "nbformat_minor": 2
}
