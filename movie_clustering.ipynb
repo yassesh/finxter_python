{
 "cells": [
  {
   "attachments": {},
   "cell_type": "markdown",
   "metadata": {},
   "source": [
    "import openai\n",
    "from dotenv import dotenv_values\n",
    "config = dotenv_values(\".env\")\n",
    "openai.api_key = config[\"OPENAI_API_KEY\"]\n"
   ]
  },
  {
   "cell_type": "code",
   "execution_count": 2,
   "metadata": {},
   "outputs": [],
   "source": [
    "import pandas as pd\n",
    "import numpy as np"
   ]
  },
  {
   "cell_type": "code",
   "execution_count": 9,
   "metadata": {},
   "outputs": [],
   "source": [
    "from tenacity import retry, wait_random_exponential, stop_after_attempt"
   ]
  },
  {
   "cell_type": "code",
   "execution_count": 11,
   "metadata": {},
   "outputs": [],
   "source": [
    "import pickle"
   ]
  },
  {
   "cell_type": "code",
   "execution_count": 3,
   "metadata": {},
   "outputs": [],
   "source": [
    "dataset_path = \"./movies.csv\"\n",
    "df = pd.read_csv(dataset_path)"
   ]
  },
  {
   "cell_type": "code",
   "execution_count": null,
   "metadata": {},
   "outputs": [],
   "source": [
    "# Narrow our data set to 50 recent movies (to save money)\n",
    "movies = df.sort_values(\"Year\", ascending=False).head(50)\n",
    "movies"
   ]
  },
  {
   "cell_type": "code",
   "execution_count": 7,
   "metadata": {},
   "outputs": [],
   "source": [
    "# Extract the movie plots into a list\n",
    "movie_plots = movies[\"Summary\"].values"
   ]
  },
  {
   "attachments": {},
   "cell_type": "markdown",
   "metadata": {},
   "source": [
    "GENERATE EMBEDDINGS\n"
   ]
  },
  {
   "cell_type": "code",
   "execution_count": 10,
   "metadata": {},
   "outputs": [],
   "source": [
    "@retry(wait=wait_random_exponential(min=1, max=20), stop=stop_after_attempt(6))\n",
    "def get_embedding(text, model=\"text-embedding-ada-002\"):\n",
    "\n",
    "    # replace newlines, which can negatively affect performance.\n",
    "    text = text.replace(\"\\n\", \" \")\n",
    "\n",
    "    return openai.Embedding.create(input=text, model=model)[\"data\"][0][\"embedding\"]"
   ]
  },
  {
   "cell_type": "code",
   "execution_count": null,
   "metadata": {},
   "outputs": [],
   "source": [
    "get_embedding(\"hello america\")"
   ]
  },
  {
   "attachments": {},
   "cell_type": "markdown",
   "metadata": {},
   "source": [
    "CREATING CACHE FOR EMBEDDING\n"
   ]
  },
  {
   "cell_type": "code",
   "execution_count": 18,
   "metadata": {},
   "outputs": [],
   "source": [
    "# establish a cache of embeddings to avoid recomputing\n",
    "# cache is a dict of tuples (text, model) -> embedding, saved as a pickle file\n",
    "\n",
    "# set path to embedding cache\n",
    "embedding_cache_path = \"movie_mind.pkl\"\n",
    "\n",
    "# load the cache if it exists, and save a copy to disk\n",
    "try:\n",
    "    embedding_cache = pd.read_pickle(embedding_cache_path)\n",
    "except FileNotFoundError:\n",
    "    embedding_cache = {}\n",
    "with open(embedding_cache_path, \"wb\") as embedding_cache_file:\n",
    "    pickle.dump(embedding_cache, embedding_cache_file)\n",
    "\n",
    "# define a function to retrieve embeddings from the cache if present, and otherwise request via the API\n",
    "def embedding_from_string(\n",
    "    string,\n",
    "    model=\"text-embedding-ada-002\",\n",
    "    embedding_cache=embedding_cache\n",
    "):\n",
    "    \"\"\"Return embedding of given string, using a cache to avoid recomputing.\"\"\"\n",
    "    if (string, model) not in embedding_cache.keys():\n",
    "        embedding_cache[(string, model)] = get_embedding(string, model)\n",
    "        print(f\"GOT EMBEDDING FROM OPENAI FOR {string[:20]}\")\n",
    "        with open(embedding_cache_path, \"wb\") as embedding_cache_file:\n",
    "            pickle.dump(embedding_cache, embedding_cache_file)\n",
    "    return embedding_cache[(string, model)]"
   ]
  },
  {
   "cell_type": "code",
   "execution_count": null,
   "metadata": {},
   "outputs": [],
   "source": [
    "embedding_from_string(\"what is this\")"
   ]
  },
  {
   "cell_type": "code",
   "execution_count": 20,
   "metadata": {},
   "outputs": [
    {
     "name": "stdout",
     "output_type": "stream",
     "text": [
      "GOT EMBEDDING FROM OPENAI FOR Derek (Alex Sharp) a\n",
      "GOT EMBEDDING FROM OPENAI FOR When two buddies' dr\n",
      "GOT EMBEDDING FROM OPENAI FOR THE HONEY KILLER is \n",
      "GOT EMBEDDING FROM OPENAI FOR Laura Alonso is a Sp\n",
      "GOT EMBEDDING FROM OPENAI FOR Riko works in a cure\n",
      "GOT EMBEDDING FROM OPENAI FOR In I FEEL PRETTY a w\n",
      "GOT EMBEDDING FROM OPENAI FOR Steve Coogan and Pau\n",
      "GOT EMBEDDING FROM OPENAI FOR Once a street-smart \n",
      "GOT EMBEDDING FROM OPENAI FOR A major league baseb\n",
      "GOT EMBEDDING FROM OPENAI FOR In a terrifying post\n",
      "GOT EMBEDDING FROM OPENAI FOR A Hebrew with an unu\n",
      "GOT EMBEDDING FROM OPENAI FOR In the heart of Amer\n",
      "GOT EMBEDDING FROM OPENAI FOR In an age of mystery\n",
      "GOT EMBEDDING FROM OPENAI FOR Two women, who are d\n",
      "GOT EMBEDDING FROM OPENAI FOR When a border disput\n",
      "GOT EMBEDDING FROM OPENAI FOR Noah spends the perf\n",
      "GOT EMBEDDING FROM OPENAI FOR The great hunter Buc\n",
      "GOT EMBEDDING FROM OPENAI FOR Mike Fallon, the Acc\n",
      "GOT EMBEDDING FROM OPENAI FOR An innocent discover\n",
      "GOT EMBEDDING FROM OPENAI FOR A couple off for a r\n",
      "GOT EMBEDDING FROM OPENAI FOR Based on the timeles\n",
      "GOT EMBEDDING FROM OPENAI FOR The Commodore Story \n",
      "GOT EMBEDDING FROM OPENAI FOR Bill visits the Brad\n",
      "GOT EMBEDDING FROM OPENAI FOR A desperate father t\n",
      "GOT EMBEDDING FROM OPENAI FOR In the near future, \n",
      "GOT EMBEDDING FROM OPENAI FOR A detective investig\n",
      "GOT EMBEDDING FROM OPENAI FOR An American diamond \n",
      "GOT EMBEDDING FROM OPENAI FOR A spoiled, wealthy y\n",
      "GOT EMBEDDING FROM OPENAI FOR While shooting a doc\n",
      "GOT EMBEDDING FROM OPENAI FOR This wonderful story\n",
      "GOT EMBEDDING FROM OPENAI FOR In the early evening\n",
      "GOT EMBEDDING FROM OPENAI FOR In the fall of 1960,\n",
      "GOT EMBEDDING FROM OPENAI FOR Peng is a freewheeli\n",
      "GOT EMBEDDING FROM OPENAI FOR Two parents do what \n",
      "GOT EMBEDDING FROM OPENAI FOR After their small Au\n",
      "GOT EMBEDDING FROM OPENAI FOR A genetics professor\n",
      "GOT EMBEDDING FROM OPENAI FOR As the Avengers and \n",
      "GOT EMBEDDING FROM OPENAI FOR In this picturesque \n",
      "GOT EMBEDDING FROM OPENAI FOR Devil's Tree: Rooted\n",
      "GOT EMBEDDING FROM OPENAI FOR Traditional comedy '\n",
      "GOT EMBEDDING FROM OPENAI FOR The parapsychologist\n",
      "GOT EMBEDDING FROM OPENAI FOR Rani Padmavati (aka \n",
      "GOT EMBEDDING FROM OPENAI FOR Story follows a man \n",
      "GOT EMBEDDING FROM OPENAI FOR A look at the unfore\n",
      "GOT EMBEDDING FROM OPENAI FOR A young genius accid\n",
      "GOT EMBEDDING FROM OPENAI FOR Six girls living alo\n",
      "GOT EMBEDDING FROM OPENAI FOR Deep in the Saudi de\n",
      "GOT EMBEDDING FROM OPENAI FOR A story about how sy\n",
      "GOT EMBEDDING FROM OPENAI FOR A military family ta\n",
      "GOT EMBEDDING FROM OPENAI FOR An unlikely heir to \n"
     ]
    }
   ],
   "source": [
    "# This line actaully generates the embeddings\n",
    "plot_embeddings = [embedding_from_string(plot, model=\"text-embedding-ada-002\") for plot in movie_plots]"
   ]
  },
  {
   "attachments": {},
   "cell_type": "markdown",
   "metadata": {},
   "source": [
    "PLOT THE EMBEDDINGS USING ATLAS\n"
   ]
  },
  {
   "cell_type": "code",
   "execution_count": 22,
   "metadata": {},
   "outputs": [],
   "source": [
    "from nomic import atlas"
   ]
  },
  {
   "cell_type": "code",
   "execution_count": 25,
   "metadata": {},
   "outputs": [],
   "source": [
    "data = movies[[\"Title\", \"Genres\"]].to_dict(\"records\")"
   ]
  },
  {
   "cell_type": "code",
   "execution_count": 26,
   "metadata": {},
   "outputs": [
    {
     "name": "stderr",
     "output_type": "stream",
     "text": [
      "\u001b[32m2023-05-22 10:31:50.213\u001b[0m | \u001b[1mINFO    \u001b[0m | \u001b[36mnomic.project\u001b[0m:\u001b[36m_create_project\u001b[0m:\u001b[36m965\u001b[0m - \u001b[1mCreating project `elfin-haze` in organization `feelvibe619`\u001b[0m\n",
      "\u001b[32m2023-05-22 10:31:52.754\u001b[0m | \u001b[1mINFO    \u001b[0m | \u001b[36mnomic.atlas\u001b[0m:\u001b[36mmap_embeddings\u001b[0m:\u001b[36m100\u001b[0m - \u001b[1mUploading embeddings to Atlas.\u001b[0m\n",
      "1it [00:02,  2.35s/it]\n",
      "\u001b[32m2023-05-22 10:31:55.107\u001b[0m | \u001b[1mINFO    \u001b[0m | \u001b[36mnomic.project\u001b[0m:\u001b[36m_add_data\u001b[0m:\u001b[36m1577\u001b[0m - \u001b[1mUpload succeeded.\u001b[0m\n",
      "\u001b[32m2023-05-22 10:31:55.108\u001b[0m | \u001b[1mINFO    \u001b[0m | \u001b[36mnomic.atlas\u001b[0m:\u001b[36mmap_embeddings\u001b[0m:\u001b[36m119\u001b[0m - \u001b[1mEmbedding upload succeeded.\u001b[0m\n",
      "\u001b[32m2023-05-22 10:31:58.650\u001b[0m | \u001b[1mINFO    \u001b[0m | \u001b[36mnomic.project\u001b[0m:\u001b[36mcreate_index\u001b[0m:\u001b[36m1282\u001b[0m - \u001b[1mCreated map `elfin-haze` in project `elfin-haze`: https://atlas.nomic.ai/map/bf7baf7a-f4b6-4bd5-a4cf-0fd558bf1c5e/b5d329da-4da5-4f2e-b6e7-0a839233988b\u001b[0m\n",
      "\u001b[32m2023-05-22 10:31:58.651\u001b[0m | \u001b[1mINFO    \u001b[0m | \u001b[36mnomic.atlas\u001b[0m:\u001b[36mmap_embeddings\u001b[0m:\u001b[36m132\u001b[0m - \u001b[1melfin-haze: https://atlas.nomic.ai/map/bf7baf7a-f4b6-4bd5-a4cf-0fd558bf1c5e/b5d329da-4da5-4f2e-b6e7-0a839233988b\u001b[0m\n"
     ]
    }
   ],
   "source": [
    "project = atlas.map_embeddings(\n",
    "    embeddings=np.array(plot_embeddings),\n",
    "    data=data\n",
    ")"
   ]
  }
 ],
 "metadata": {
  "kernelspec": {
   "display_name": "Python 3",
   "language": "python",
   "name": "python3"
  },
  "language_info": {
   "codemirror_mode": {
    "name": "ipython",
    "version": 3
   },
   "file_extension": ".py",
   "mimetype": "text/x-python",
   "name": "python",
   "nbconvert_exporter": "python",
   "pygments_lexer": "ipython3",
   "version": "3.11.2"
  },
  "orig_nbformat": 4
 },
 "nbformat": 4,
 "nbformat_minor": 2
}
