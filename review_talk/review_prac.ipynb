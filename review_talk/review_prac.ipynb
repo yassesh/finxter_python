{
 "cells": [
  {
   "cell_type": "code",
   "execution_count": 5,
   "metadata": {},
   "outputs": [],
   "source": [
    "import openai\n",
    "import pandas as pd\n",
    "import requests\n",
    "from bs4 import BeautifulSoup\n",
    "import re\n",
    "import math"
   ]
  },
  {
   "cell_type": "code",
   "execution_count": 3,
   "metadata": {},
   "outputs": [],
   "source": [
    "from dotenv import dotenv_values\n",
    "config = dotenv_values(\".env\")\n",
    "openai.api_key = config[\"OPENAI_API_KEY\"]"
   ]
  },
  {
   "cell_type": "code",
   "execution_count": 4,
   "metadata": {},
   "outputs": [],
   "source": [
    "def get_embedding(text, model=\"text-embedding-ada-002\"):\n",
    "   text = text.replace(\"\\n\", \" \")\n",
    "   return openai.Embedding.create(input = [text], model=model)['data'][0]['embedding']"
   ]
  },
  {
   "cell_type": "code",
   "execution_count": 19,
   "metadata": {},
   "outputs": [],
   "source": [
    "product_url = 'https://www.amazon.com/2021-Apple-10-2-inch-iPad-Wi-Fi/dp/B09G9FPHY6'"
   ]
  },
  {
   "cell_type": "code",
   "execution_count": 7,
   "metadata": {},
   "outputs": [],
   "source": [
    "from fake_useragent import UserAgent"
   ]
  },
  {
   "cell_type": "code",
   "execution_count": 12,
   "metadata": {},
   "outputs": [],
   "source": [
    "\n",
    "def scrape_amazon_reviews(product_url, max_pages=None):\n",
    "    reviews = []\n",
    "    page_num = 1\n",
    "\n",
    "    while True:\n",
    "        url = f\"{product_url}?ie=UTF8&reviewerType=all_reviews&pageNumber={page_num}\"\n",
    "        print(url)\n",
    "        ua = UserAgent()\n",
    "        headers = {\"User-Agent\": ua.random}\n",
    "        response = requests.get(url, headers=headers)\n",
    "        soup = BeautifulSoup(response.text, \"html.parser\")\n",
    "\n",
    "        reviews_divs = soup.find_all(\"div\", {\"data-hook\": \"review\"})\n",
    "\n",
    "        if not reviews_divs:\n",
    "            break\n",
    "\n",
    "        for review in reviews_divs:\n",
    "            author_elem = review.find(\"span\", {\"class\": \"a-profile-name\"})\n",
    "            rating_elem = review.find(\"i\", {\"data-hook\": \"review-star-rating\"})\n",
    "            title_elem = review.find(\"a\", {\"data-hook\": \"review-title\"})\n",
    "            date_elem = review.find(\"span\", {\"data-hook\": \"review-date\"})\n",
    "            body_elem = review.find(\"span\", {\"data-hook\": \"review-body\"})\n",
    "\n",
    "            data = {\n",
    "                \"author\": author_elem.text if author_elem else None,\n",
    "                \"rating\": rating_elem.find(\"span\").text if rating_elem and rating_elem.find(\"span\") else None,\n",
    "                \"title\": title_elem.find(\"span\").text if title_elem and title_elem.find(\"span\") else None,\n",
    "                \"date\": date_elem.text if date_elem else None,\n",
    "                \"body\": body_elem.find(\"span\").text if body_elem and body_elem.find(\"span\") else None,\n",
    "            }\n",
    "            reviews.append(data)\n",
    "\n",
    "        if max_pages and page_num >= max_pages:\n",
    "            break\n",
    "\n",
    "        page_num += 1\n",
    "\n",
    "    return pd.DataFrame(reviews)"
   ]
  },
  {
   "cell_type": "code",
   "execution_count": 20,
   "metadata": {},
   "outputs": [
    {
     "name": "stdout",
     "output_type": "stream",
     "text": [
      "https://www.amazon.com/2021-Apple-10-2-inch-iPad-Wi-Fi/dp/B09G9FPHY6?ie=UTF8&reviewerType=all_reviews&pageNumber=1\n"
     ]
    },
    {
     "data": {
      "text/html": [
       "<div>\n",
       "<style scoped>\n",
       "    .dataframe tbody tr th:only-of-type {\n",
       "        vertical-align: middle;\n",
       "    }\n",
       "\n",
       "    .dataframe tbody tr th {\n",
       "        vertical-align: top;\n",
       "    }\n",
       "\n",
       "    .dataframe thead th {\n",
       "        text-align: right;\n",
       "    }\n",
       "</style>\n",
       "<table border=\"1\" class=\"dataframe\">\n",
       "  <thead>\n",
       "    <tr style=\"text-align: right;\">\n",
       "      <th></th>\n",
       "    </tr>\n",
       "  </thead>\n",
       "  <tbody>\n",
       "  </tbody>\n",
       "</table>\n",
       "</div>"
      ],
      "text/plain": [
       "Empty DataFrame\n",
       "Columns: []\n",
       "Index: []"
      ]
     },
     "execution_count": 20,
     "metadata": {},
     "output_type": "execute_result"
    }
   ],
   "source": [
    "\n",
    "scrape_amazon_reviews(product_url)"
   ]
  },
  {
   "cell_type": "code",
   "execution_count": 10,
   "metadata": {},
   "outputs": [],
   "source": [
    "from langchain.vectorstores import chroma\n",
    "from langchain.llms import OpenAIChat\n",
    "from langchain.text_splitter import CharacterTextSplitter\n",
    "from langchain import OpenAI, VectorDBQA, OpenAI\n",
    "from langchain.document_loaders import DirectoryLoader\n",
    "import langchain"
   ]
  }
 ],
 "metadata": {
  "kernelspec": {
   "display_name": "Python 3",
   "language": "python",
   "name": "python3"
  },
  "language_info": {
   "codemirror_mode": {
    "name": "ipython",
    "version": 3
   },
   "file_extension": ".py",
   "mimetype": "text/x-python",
   "name": "python",
   "nbconvert_exporter": "python",
   "pygments_lexer": "ipython3",
   "version": "3.11.3"
  },
  "orig_nbformat": 4
 },
 "nbformat": 4,
 "nbformat_minor": 2
}
