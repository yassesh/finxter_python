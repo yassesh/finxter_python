{
 "cells": [
  {
   "cell_type": "code",
   "execution_count": 9,
   "metadata": {},
   "outputs": [],
   "source": [
    "import requests\n",
    "from bs4 import BeautifulSoup\n",
    "import openai\n",
    "from langchain.text_splitter import RecursiveCharacterTextSplitter\n",
    "import tiktoken"
   ]
  },
  {
   "cell_type": "code",
   "execution_count": null,
   "metadata": {},
   "outputs": [],
   "source": []
  },
  {
   "cell_type": "code",
   "execution_count": 10,
   "metadata": {},
   "outputs": [],
   "source": [
    "from dotenv import dotenv_values\n",
    "config = dotenv_values(\".env\")\n",
    "openai.api_key = config[\"OPENAI_API_KEY\"]"
   ]
  },
  {
   "cell_type": "code",
   "execution_count": 11,
   "metadata": {},
   "outputs": [],
   "source": [
    "def get_embedding(text, model=\"text-embedding-ada-002\"):\n",
    "   text = text.replace(\"\\n\", \" \")\n",
    "   return openai.Embedding.create(input = [text], model=model)['data'][0]['embedding']"
   ]
  },
  {
   "cell_type": "code",
   "execution_count": 12,
   "metadata": {},
   "outputs": [],
   "source": [
    "def get_html_content(url):\n",
    "    response = requests.get(url)\n",
    "    return response.content"
   ]
  },
  {
   "cell_type": "code",
   "execution_count": 13,
   "metadata": {},
   "outputs": [],
   "source": [
    "def remove_newlines(text):\n",
    "    cleaned_text = text.replace('\\n', '')\n",
    "    return cleaned_text"
   ]
  },
  {
   "cell_type": "code",
   "execution_count": 14,
   "metadata": {},
   "outputs": [],
   "source": [
    "def get_plain_text(html_content):\n",
    "    soup = BeautifulSoup(html_content, 'html.parser')\n",
    "    for script in soup([\"script\"]):\n",
    "        script.extract()\n",
    "    return soup.get_text()\n",
    "     "
   ]
  },
  {
   "cell_type": "code",
   "execution_count": 15,
   "metadata": {},
   "outputs": [],
   "source": [
    "text_splitter = RecursiveCharacterTextSplitter(chunk_size = 2000)\n",
    "# text_splitter = CharacterTextSplitter(separator = \"\\n\\n\",chunk_size=2000,)"
   ]
  },
  {
   "cell_type": "code",
   "execution_count": 16,
   "metadata": {},
   "outputs": [],
   "source": [
    "def scrape_text_from_url(url):\n",
    "    html_content = get_html_content(url)\n",
    "    plain_text_with_newline = get_plain_text(html_content)\n",
    "    plain_text = remove_newlines(plain_text_with_newline)\n",
    "    splitted_text = text_splitter.split_text(plain_text)\n",
    "    return splitted_text\n",
    "     "
   ]
  },
  {
   "cell_type": "code",
   "execution_count": 9,
   "metadata": {},
   "outputs": [],
   "source": [
    "url = input(\"Enter the URL to scrape text from: \")\n",
    "plain_text_chunks = scrape_text_from_url(url)\n",
    "print(plain_text_chunks)"
   ]
  },
  {
   "cell_type": "code",
   "execution_count": 1,
   "metadata": {},
   "outputs": [
    {
     "ename": "NameError",
     "evalue": "name 'plain_text_chunks' is not defined",
     "output_type": "error",
     "traceback": [
      "\u001b[1;31m---------------------------------------------------------------------------\u001b[0m",
      "\u001b[1;31mNameError\u001b[0m                                 Traceback (most recent call last)",
      "Cell \u001b[1;32mIn[1], line 1\u001b[0m\n\u001b[1;32m----> 1\u001b[0m \u001b[39mlen\u001b[39m(plain_text_chunks)\n",
      "\u001b[1;31mNameError\u001b[0m: name 'plain_text_chunks' is not defined"
     ]
    }
   ],
   "source": [
    "len(plain_text_chunks)"
   ]
  },
  {
   "cell_type": "code",
   "execution_count": 13,
   "metadata": {},
   "outputs": [
    {
     "data": {
      "text/plain": [
       "'he came on in the 75th minute during a friendly against José Mourinho\\'s Porto on 16 November 2003.[22][35] His performance, creating two chances and a shot on goal, impressed the technical staff, and he subsequently began training daily with the club\\'s reserve side, Barcelona B, as well as weekly with the first team.[36] After his first training session with the senior squad, Barça\\'s new star player, Ronaldinho, told his teammates that he believed the 16-year-old would become an even better player than himself.[37] Ronaldinho soon befriended Messi, whom he called \"little brother\", which greatly eased his transition into the first team.[38][39] Messi playing against Málaga in 2005To gain further match experience, Messi joined Barcelona C in addition to the Juveniles A, playing his first game for the third team on 29 November. He helped save them from the relegation zone of the Tercera División, scoring five goals in ten games, including a hat-trick in eight minutes during a Copa del Rey match while man-marked by Sevilla\\'s Sergio Ramos.[32][40] His progress was reflected in his first professional contract, signed on 4 February 2004, which lasted until 2012 and contained an initial buyout clause of €30\\xa0million. A month later, on 6 March, he made his debut for Barcelona B in the Segunda División B, and his buyout clause automatically increased to €80\\xa0million.[32][41] He played five games with the B team that season but did not score.[42] Physically he was weaker than his opponents, who were often much older and taller, and in training he worked on increasing his muscle mass and overall strength in order to be able to shake off defenders. Towards the end of the season, he returned to both youth teams, helping the Juveniles B win the league. He finished the campaign having scored for four of his five teams with a total of 36 goals in all official competitions.[32][40]During the 2004–05 season, Messi was a guaranteed starter for the B team, playing 17 games throughout the'"
      ]
     },
     "execution_count": 13,
     "metadata": {},
     "output_type": "execute_result"
    }
   ],
   "source": [
    "plain_text_chunks[9]"
   ]
  },
  {
   "cell_type": "code",
   "execution_count": 14,
   "metadata": {},
   "outputs": [],
   "source": [
    "enc = tiktoken.encoding_for_model(\"text-embedding-ada-002\")"
   ]
  },
  {
   "cell_type": "code",
   "execution_count": 15,
   "metadata": {},
   "outputs": [
    {
     "name": "stdout",
     "output_type": "stream",
     "text": [
      "80175\n"
     ]
    }
   ],
   "source": [
    "total_tokens = sum([len(enc.encode(chunk)) for chunk in plain_text_chunks])\n",
    "print(total_tokens)"
   ]
  },
  {
   "cell_type": "code",
   "execution_count": 16,
   "metadata": {},
   "outputs": [
    {
     "name": "stdout",
     "output_type": "stream",
     "text": [
      "0.03207\n"
     ]
    }
   ],
   "source": [
    "cost = (total_tokens/1000) * 0.0004 \n",
    "print(cost)"
   ]
  },
  {
   "attachments": {},
   "cell_type": "markdown",
   "metadata": {},
   "source": [
    "CONNECTING PINECONE\n"
   ]
  },
  {
   "cell_type": "code",
   "execution_count": 17,
   "metadata": {},
   "outputs": [],
   "source": [
    "import pinecone\n",
    "pinecone.init(api_key= config[\"PINECONE_KEY\"],\n",
    "              environment=\"us-west4-gcp-free\")\n"
   ]
  },
  {
   "attachments": {},
   "cell_type": "markdown",
   "metadata": {},
   "source": [
    "ADD DATA TO SUPABASE\n"
   ]
  },
  {
   "cell_type": "code",
   "execution_count": 20,
   "metadata": {},
   "outputs": [],
   "source": [
    "index = pinecone.Index(\"chris\")"
   ]
  },
  {
   "cell_type": "code",
   "execution_count": 20,
   "metadata": {},
   "outputs": [
    {
     "data": {
      "text/plain": [
       "{'dimension': 1536,\n",
       " 'index_fullness': 0.0,\n",
       " 'namespaces': {'': {'vector_count': 29}},\n",
       " 'total_vector_count': 29}"
      ]
     },
     "execution_count": 20,
     "metadata": {},
     "output_type": "execute_result"
    }
   ],
   "source": [
    "index.describe_index_stats()"
   ]
  },
  {
   "cell_type": "code",
   "execution_count": 55,
   "metadata": {},
   "outputs": [],
   "source": [
    "def addData(web_data,url):\n",
    "    id  = index.describe_index_stats()['total_vector_count']\n",
    "    for i in range(len(web_data)):\n",
    "        chunk=web_data[i]\n",
    "        chunkInfo=(str(id+i),\n",
    "                get_embedding(chunk,model=\"text-embedding-ada-002\"),\n",
    "                {'title': url,'context': chunk})\n",
    "        index.upsert(vectors=[chunkInfo])\n",
    "     "
   ]
  },
  {
   "cell_type": "code",
   "execution_count": 56,
   "metadata": {},
   "outputs": [],
   "source": [
    "addData(plain_text_chunks,url)"
   ]
  },
  {
   "attachments": {},
   "cell_type": "markdown",
   "metadata": {},
   "source": [
    "QUERY EMBEDDINGS\n"
   ]
  },
  {
   "cell_type": "code",
   "execution_count": 18,
   "metadata": {},
   "outputs": [],
   "source": [
    "def find_match(query,k):\n",
    "    query_em = get_embedding(query,model= \"text-embedding-ada-002\")\n",
    "    result = index.query(query_em, top_k=k, includeMetadata=True)\n",
    "    \n",
    "    return [result['matches'][i]['metadata']['title'] for i in range(k)],[result['matches'][i]['metadata']['context'] for i in range(k)]"
   ]
  },
  {
   "cell_type": "code",
   "execution_count": 21,
   "metadata": {},
   "outputs": [
    {
     "data": {
      "text/plain": [
       "(['https://ewzrjnlqbkhwhkwjjsrl.supabase.co',\n",
       "  'https://en.wikipedia.org/wiki/Chris_Martin'],\n",
       " ['Coldplay. For other people, see Chris Martin (disambiguation).English singer-songwriter (born 1977)Chris MartinMartin performing with Coldplay in 2017BornChristopher Anthony John Martin (1977-03-02) 2 March 1977 (age\\xa046)Exeter, Devon, EnglandAlma\\xa0materUniversity College LondonOccupationsSingersongwritermusicianproducerphilanthropistYears\\xa0active1997–presentSpouseGwyneth Paltrow\\u200b \\u200b(m.\\xa02003; div.\\xa02016)\\u200bPartner(s)Dakota Johnson(2017–present)Children2AwardsFull listMusical careerOriginLondon, EnglandGenresAlternative rockpop rockpost-BritpoppopInstrumentsVocalspianokeyboardsguitarharmonicaLabelsParlophoneAtlanticCapitolMember ofColdplayMusical artistWebsitecoldplay.comSignatureChristopher Anthony John Martin (born 2 March 1977) is an English singer-songwriter and musician. He is best known as the lead vocalist, pianist, rhythm guitarist and co-founder of the rock band Coldplay. Born in Exeter, Devon, he went to University College London, where he formed the band with classmates Jonny Buckland, Guy Berryman and Will Champion. They found worldwide fame with the release of the song \"Yellow\" in 2000, receiving acclaim for albums such as A Rush of Blood to the Head (2002), Viva la Vida or Death and All His Friends (2008) and others. He won seven Grammy Awards and nine Brit Awards as part of the band. They have sold over 100 million albums worldwide as of 2021,[a] making them the most successful group of the 21st century.[3] Martin appeared on Debrett\\'s 2017 list of the most influential people in the United Kingdom.[4]Early life[edit]Christopher Anthony John Martin was born on 2 March 1977 in Exeter, Devon, England,[5] being the oldest of five children.[6] His father, Anthony John Martin, of Whitestone House, Exeter,[7] is a retired chartered accountant, and his mother, Alison Martin, who is from Zimbabwe, is a music teacher.[8] His family\\'s caravan and motorhome sales business, Martin\\'s of Exeter, was founded in 1929 by his grandfather John Besley Martin, CBE (a High',\n",
       "  'Coldplay. For other people, see Chris Martin (disambiguation).English singer-songwriter (born 1977)Chris MartinMartin performing with Coldplay in 2017BornChristopher Anthony John Martin (1977-03-02) 2 March 1977 (age\\xa046)Exeter, Devon, EnglandAlma\\xa0materUniversity College LondonOccupationsSingersongwritermusicianproducerphilanthropistYears\\xa0active1997–presentSpouseGwyneth Paltrow\\u200b \\u200b(m.\\xa02003; div.\\xa02016)\\u200bPartner(s)Dakota Johnson(2017–present)Children2AwardsFull listMusical careerOriginLondon, EnglandGenresAlternative rockpop rockpost-BritpoppopInstrumentsVocalspianokeyboardsguitarharmonicaLabelsParlophoneAtlanticCapitolMember ofColdplayMusical artistWebsitecoldplay.comSignatureChristopher Anthony John Martin (born 2 March 1977) is an English singer-songwriter and musician. He is best known as the lead vocalist, pianist, rhythm guitarist and co-founder of the rock band Coldplay. Born in Exeter, Devon, he went to University College London, where he formed the band with classmates Jonny Buckland, Guy Berryman and Will Champion. They found worldwide fame with the release of the song \"Yellow\" in 2000, receiving acclaim for albums such as A Rush of Blood to the Head (2002), Viva la Vida or Death and All His Friends (2008) and others. He won seven Grammy Awards and nine Brit Awards as part of the band. They have sold over 100 million albums worldwide as of 2021,[a] making them the most successful group of the 21st century.[3] Martin appeared on Debrett\\'s 2017 list of the most influential people in the United Kingdom.[4]Early life[edit]Christopher Anthony John Martin was born on 2 March 1977 in Exeter, Devon, England,[5] being the oldest of five children.[6] His father, Anthony John Martin, of Whitestone House, Exeter,[7] is a retired chartered accountant, and his mother, Alison Martin, who is from Zimbabwe, is a music teacher.[8] His family\\'s caravan and motorhome sales business, Martin\\'s of Exeter, was founded in 1929 by his grandfather John Besley Martin, CBE (a High'])"
      ]
     },
     "execution_count": 21,
     "metadata": {},
     "output_type": "execute_result"
    }
   ],
   "source": [
    "find_match(\"how old is chris martin?\",2)"
   ]
  },
  {
   "attachments": {},
   "cell_type": "markdown",
   "metadata": {},
   "source": [
    "PROMPT CREATION\n"
   ]
  },
  {
   "cell_type": "code",
   "execution_count": 22,
   "metadata": {},
   "outputs": [],
   "source": [
    "def create_prompt(context,query):\n",
    "    header = \"Answer the question as truthfully as possible using the provided context, and if the answer is not contained within the text and requires some latest information to be updated, print 'Sorry Not Sufficient context to answer query' \\n\"\n",
    "    return header + context + \"\\n\\n\" + query + \"\\n\"\n",
    "\n",
    "def generate_answer(prompt):\n",
    "    response = openai.Completion.create(\n",
    "    model=\"text-davinci-003\",\n",
    "    prompt=prompt,\n",
    "    temperature=0,\n",
    "    max_tokens=256,\n",
    "    top_p=1,\n",
    "    frequency_penalty=0,\n",
    "    presence_penalty=0,\n",
    "    stop = [' END']\n",
    "    )\n",
    "    return (response.choices[0].text).strip()"
   ]
  },
  {
   "cell_type": "code",
   "execution_count": 23,
   "metadata": {},
   "outputs": [],
   "source": [
    "query = \"how old is Chris Martin?\"\n",
    "docs,res = find_match(query,2)"
   ]
  },
  {
   "cell_type": "code",
   "execution_count": 24,
   "metadata": {},
   "outputs": [
    {
     "data": {
      "text/plain": [
       "['Coldplay. For other people, see Chris Martin (disambiguation).English singer-songwriter (born 1977)Chris MartinMartin performing with Coldplay in 2017BornChristopher Anthony John Martin (1977-03-02) 2 March 1977 (age\\xa046)Exeter, Devon, EnglandAlma\\xa0materUniversity College LondonOccupationsSingersongwritermusicianproducerphilanthropistYears\\xa0active1997–presentSpouseGwyneth Paltrow\\u200b \\u200b(m.\\xa02003; div.\\xa02016)\\u200bPartner(s)Dakota Johnson(2017–present)Children2AwardsFull listMusical careerOriginLondon, EnglandGenresAlternative rockpop rockpost-BritpoppopInstrumentsVocalspianokeyboardsguitarharmonicaLabelsParlophoneAtlanticCapitolMember ofColdplayMusical artistWebsitecoldplay.comSignatureChristopher Anthony John Martin (born 2 March 1977) is an English singer-songwriter and musician. He is best known as the lead vocalist, pianist, rhythm guitarist and co-founder of the rock band Coldplay. Born in Exeter, Devon, he went to University College London, where he formed the band with classmates Jonny Buckland, Guy Berryman and Will Champion. They found worldwide fame with the release of the song \"Yellow\" in 2000, receiving acclaim for albums such as A Rush of Blood to the Head (2002), Viva la Vida or Death and All His Friends (2008) and others. He won seven Grammy Awards and nine Brit Awards as part of the band. They have sold over 100 million albums worldwide as of 2021,[a] making them the most successful group of the 21st century.[3] Martin appeared on Debrett\\'s 2017 list of the most influential people in the United Kingdom.[4]Early life[edit]Christopher Anthony John Martin was born on 2 March 1977 in Exeter, Devon, England,[5] being the oldest of five children.[6] His father, Anthony John Martin, of Whitestone House, Exeter,[7] is a retired chartered accountant, and his mother, Alison Martin, who is from Zimbabwe, is a music teacher.[8] His family\\'s caravan and motorhome sales business, Martin\\'s of Exeter, was founded in 1929 by his grandfather John Besley Martin, CBE (a High',\n",
       " 'Coldplay. For other people, see Chris Martin (disambiguation).English singer-songwriter (born 1977)Chris MartinMartin performing with Coldplay in 2017BornChristopher Anthony John Martin (1977-03-02) 2 March 1977 (age\\xa046)Exeter, Devon, EnglandAlma\\xa0materUniversity College LondonOccupationsSingersongwritermusicianproducerphilanthropistYears\\xa0active1997–presentSpouseGwyneth Paltrow\\u200b \\u200b(m.\\xa02003; div.\\xa02016)\\u200bPartner(s)Dakota Johnson(2017–present)Children2AwardsFull listMusical careerOriginLondon, EnglandGenresAlternative rockpop rockpost-BritpoppopInstrumentsVocalspianokeyboardsguitarharmonicaLabelsParlophoneAtlanticCapitolMember ofColdplayMusical artistWebsitecoldplay.comSignatureChristopher Anthony John Martin (born 2 March 1977) is an English singer-songwriter and musician. He is best known as the lead vocalist, pianist, rhythm guitarist and co-founder of the rock band Coldplay. Born in Exeter, Devon, he went to University College London, where he formed the band with classmates Jonny Buckland, Guy Berryman and Will Champion. They found worldwide fame with the release of the song \"Yellow\" in 2000, receiving acclaim for albums such as A Rush of Blood to the Head (2002), Viva la Vida or Death and All His Friends (2008) and others. He won seven Grammy Awards and nine Brit Awards as part of the band. They have sold over 100 million albums worldwide as of 2021,[a] making them the most successful group of the 21st century.[3] Martin appeared on Debrett\\'s 2017 list of the most influential people in the United Kingdom.[4]Early life[edit]Christopher Anthony John Martin was born on 2 March 1977 in Exeter, Devon, England,[5] being the oldest of five children.[6] His father, Anthony John Martin, of Whitestone House, Exeter,[7] is a retired chartered accountant, and his mother, Alison Martin, who is from Zimbabwe, is a music teacher.[8] His family\\'s caravan and motorhome sales business, Martin\\'s of Exeter, was founded in 1929 by his grandfather John Besley Martin, CBE (a High']"
      ]
     },
     "execution_count": 24,
     "metadata": {},
     "output_type": "execute_result"
    }
   ],
   "source": [
    "res"
   ]
  },
  {
   "cell_type": "code",
   "execution_count": 25,
   "metadata": {},
   "outputs": [
    {
     "name": "stdout",
     "output_type": "stream",
     "text": [
      "Answer the question as truthfully as possible using the provided context, and if the answer is not contained within the text and requires some latest information to be updated, print 'Sorry Not Sufficient context to answer query' \n",
      "Coldplay. For other people, see Chris Martin (disambiguation).English singer-songwriter (born 1977)Chris MartinMartin performing with Coldplay in 2017BornChristopher Anthony John Martin (1977-03-02) 2 March 1977 (age 46)Exeter, Devon, EnglandAlma materUniversity College LondonOccupationsSingersongwritermusicianproducerphilanthropistYears active1997–presentSpouseGwyneth Paltrow​ ​(m. 2003; div. 2016)​Partner(s)Dakota Johnson(2017–present)Children2AwardsFull listMusical careerOriginLondon, EnglandGenresAlternative rockpop rockpost-BritpoppopInstrumentsVocalspianokeyboardsguitarharmonicaLabelsParlophoneAtlanticCapitolMember ofColdplayMusical artistWebsitecoldplay.comSignatureChristopher Anthony John Martin (born 2 March 1977) is an English singer-songwriter and musician. He is best known as the lead vocalist, pianist, rhythm guitarist and co-founder of the rock band Coldplay. Born in Exeter, Devon, he went to University College London, where he formed the band with classmates Jonny Buckland, Guy Berryman and Will Champion. They found worldwide fame with the release of the song \"Yellow\" in 2000, receiving acclaim for albums such as A Rush of Blood to the Head (2002), Viva la Vida or Death and All His Friends (2008) and others. He won seven Grammy Awards and nine Brit Awards as part of the band. They have sold over 100 million albums worldwide as of 2021,[a] making them the most successful group of the 21st century.[3] Martin appeared on Debrett's 2017 list of the most influential people in the United Kingdom.[4]Early life[edit]Christopher Anthony John Martin was born on 2 March 1977 in Exeter, Devon, England,[5] being the oldest of five children.[6] His father, Anthony John Martin, of Whitestone House, Exeter,[7] is a retired chartered accountant, and his mother, Alison Martin, who is from Zimbabwe, is a music teacher.[8] His family's caravan and motorhome sales business, Martin's of Exeter, was founded in 1929 by his grandfather John Besley Martin, CBE (a High\n",
      "\n",
      "Coldplay. For other people, see Chris Martin (disambiguation).English singer-songwriter (born 1977)Chris MartinMartin performing with Coldplay in 2017BornChristopher Anthony John Martin (1977-03-02) 2 March 1977 (age 46)Exeter, Devon, EnglandAlma materUniversity College LondonOccupationsSingersongwritermusicianproducerphilanthropistYears active1997–presentSpouseGwyneth Paltrow​ ​(m. 2003; div. 2016)​Partner(s)Dakota Johnson(2017–present)Children2AwardsFull listMusical careerOriginLondon, EnglandGenresAlternative rockpop rockpost-BritpoppopInstrumentsVocalspianokeyboardsguitarharmonicaLabelsParlophoneAtlanticCapitolMember ofColdplayMusical artistWebsitecoldplay.comSignatureChristopher Anthony John Martin (born 2 March 1977) is an English singer-songwriter and musician. He is best known as the lead vocalist, pianist, rhythm guitarist and co-founder of the rock band Coldplay. Born in Exeter, Devon, he went to University College London, where he formed the band with classmates Jonny Buckland, Guy Berryman and Will Champion. They found worldwide fame with the release of the song \"Yellow\" in 2000, receiving acclaim for albums such as A Rush of Blood to the Head (2002), Viva la Vida or Death and All His Friends (2008) and others. He won seven Grammy Awards and nine Brit Awards as part of the band. They have sold over 100 million albums worldwide as of 2021,[a] making them the most successful group of the 21st century.[3] Martin appeared on Debrett's 2017 list of the most influential people in the United Kingdom.[4]Early life[edit]Christopher Anthony John Martin was born on 2 March 1977 in Exeter, Devon, England,[5] being the oldest of five children.[6] His father, Anthony John Martin, of Whitestone House, Exeter,[7] is a retired chartered accountant, and his mother, Alison Martin, who is from Zimbabwe, is a music teacher.[8] His family's caravan and motorhome sales business, Martin's of Exeter, was founded in 1929 by his grandfather John Besley Martin, CBE (a High\n",
      "\n",
      "how old is Chris Martin?\n",
      "\n"
     ]
    }
   ],
   "source": [
    "context= \"\\n\\n\".join(res)\n",
    "prompt = create_prompt(context,query)\n",
    "print(prompt)\n",
    "     "
   ]
  },
  {
   "cell_type": "code",
   "execution_count": 26,
   "metadata": {},
   "outputs": [
    {
     "name": "stdout",
     "output_type": "stream",
     "text": [
      "46\n"
     ]
    }
   ],
   "source": [
    "reply = generate_answer(prompt)\n",
    "print(reply)"
   ]
  }
 ],
 "metadata": {
  "kernelspec": {
   "display_name": "Python 3",
   "language": "python",
   "name": "python3"
  },
  "language_info": {
   "codemirror_mode": {
    "name": "ipython",
    "version": 3
   },
   "file_extension": ".py",
   "mimetype": "text/x-python",
   "name": "python",
   "nbconvert_exporter": "python",
   "pygments_lexer": "ipython3",
   "version": "3.11.3"
  },
  "orig_nbformat": 4
 },
 "nbformat": 4,
 "nbformat_minor": 2
}
