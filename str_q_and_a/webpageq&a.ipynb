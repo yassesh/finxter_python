{
 "cells": [
  {
   "cell_type": "code",
   "execution_count": 45,
   "metadata": {},
   "outputs": [],
   "source": [
    "import requests\n",
    "from bs4 import BeautifulSoup\n",
    "from langchain.text_splitter import RecursiveCharacterTextSplitter"
   ]
  },
  {
   "cell_type": "code",
   "execution_count": 27,
   "metadata": {},
   "outputs": [],
   "source": [
    "def get_html_content(url):\n",
    "    response = requests.get(url)\n",
    "    return response.content"
   ]
  },
  {
   "cell_type": "code",
   "execution_count": 28,
   "metadata": {},
   "outputs": [],
   "source": [
    "def get_plain_text(html_content):\n",
    "    soup = BeautifulSoup(html_content, 'html.parser')\n",
    "    for script in soup([\"script\"]):\n",
    "        script.extract()\n",
    "    return soup.get_text()"
   ]
  },
  {
   "cell_type": "code",
   "execution_count": 33,
   "metadata": {},
   "outputs": [],
   "source": [
    "import re\n",
    "\n",
    "def remove_newlines(html_text):\n",
    "    \"\"\"Removes new line characters from a string of HTML text.\"\"\"\n",
    "    pattern = re.compile(r'\\n')\n",
    "    return re.sub(pattern, '', html_text)"
   ]
  },
  {
   "cell_type": "code",
   "execution_count": 36,
   "metadata": {},
   "outputs": [],
   "source": [
    "text_splitter = RecursiveCharacterTextSplitter(chunk_size = 2000)"
   ]
  },
  {
   "cell_type": "code",
   "execution_count": 37,
   "metadata": {},
   "outputs": [],
   "source": [
    "def scrape_text_from_url(url):\n",
    "    html_content = get_html_content(url)\n",
    "    plain_text_with_newline = get_plain_text(html_content)\n",
    "    plain_text = remove_newlines(plain_text_with_newline)\n",
    "    splitted_text = text_splitter.split_text(plain_text)\n",
    "    return splitted_text"
   ]
  },
  {
   "cell_type": "code",
   "execution_count": null,
   "metadata": {},
   "outputs": [],
   "source": [
    "url = input(\"Enter the URL to scrape text from: \")\n",
    "plain_text_chunks = scrape_text_from_url(url)\n",
    "print(plain_text_chunks)"
   ]
  },
  {
   "cell_type": "code",
   "execution_count": 39,
   "metadata": {},
   "outputs": [
    {
     "data": {
      "text/plain": [
       "29"
      ]
     },
     "execution_count": 39,
     "metadata": {},
     "output_type": "execute_result"
    }
   ],
   "source": [
    "len(plain_text_chunks)"
   ]
  },
  {
   "cell_type": "code",
   "execution_count": 40,
   "metadata": {},
   "outputs": [
    {
     "data": {
      "text/plain": [
       "'Coldplay[edit]Main articles: Coldplay discography and songsParachutes (2000)A Rush of Blood to the Head (2002)X&Y (2005)Viva la Vida or Death and All His Friends (2008)Mylo Xyloto (2011)Ghost Stories (2014)A Head Full of Dreams (2015)Everyday Life (2019)Music of the Spheres (2021)Solo credits[edit]List of solo credits, showing year of release, song title, artist name, album title and role in the projectYearSongArtistAlbumRoleRef.2002\"Where Is My Boy?\"FaultlineYour Love Means EverythingCo-writer\\xa0· featured artist[89]\"Your Love Means Everything Part 2\"\"Gold in Them Hills\"Ron SexsmithCobblestone RunwayPiano[90]2003\"Sliding\"Ian McCullochSlidelingBacking vocals[91]\"Arthur\"Piano\\xa0· backing vocals\"See It in a Boy\\'s Eyes\"JameliaThank YouCo-writer\\xa0· piano\\xa0· backing vocals[92]2004\"Everybody\\'s Happy Nowadays\"Ash\"Orpheus\"Backing vocals[93]\"Do They Know It\\'s Christmas?\"Band Aid 20—Featured artist[94]2006\"All Good Things (Come to an End)\"Nelly FurtadoLooseCo-writer[95]\"In the Sun\"Michael StipeIn the Sun (Gulf Coast Relief)Featured artist[96]\"Beach Chair\"Jay-ZKingdom ComeProducer\\xa0· featured artist[97]2007\"Homecoming\"Kanye WestGraduationCo-writer\\xa0· featured artist[98]2009\"Want\"Natalie ImbrugliaCome to LifeCo-writer\\xa0· keyboards[99]\"Dove of Peace\"Brüno GehardBrünoFeatured artist[100]2010\"Most Kingz\"Jay-Z—[101]\"Me and Tennessee\"Gwyneth Paltrow and Tim McGrawCountry StrongWriter[b][102]2012\"I Don\\'t Want You to Die\"The Flaming LipsThe Flaming Lips and Heady FwendsFeatured artist[103]\"Viva la Vida\" (Live)Various12-12-12: The Concert for Sandy Relief[104]\"Losing My Religion\" (Live)(with Michael Stipe)\"Us Against the World\" (Live)2014\"Do They Know It\\'s Christmas?\"Band Aid 30—[105]2015\"True Believer\"AviciiStoriesCo-writer\\xa0· piano\\xa0· backing vocals[106]\"Every Day\\'s Like Christmas\"Kylie MinogueKylie ChristmasCo-writer\\xa0· backing vocals[c][107]2016\"Electricity\"David BrentLife on the RoadFeatured artist[108]2017\"Homesick\"Dua LipaDua LipaCo-writer\\xa0· piano\\xa0· backing vocals[109]2018\"Keep'"
      ]
     },
     "execution_count": 40,
     "metadata": {},
     "output_type": "execute_result"
    }
   ],
   "source": [
    "plain_text_chunks[10]"
   ]
  },
  {
   "attachments": {},
   "cell_type": "markdown",
   "metadata": {},
   "source": [
    "GENERATE EMBEDDINGS\n"
   ]
  },
  {
   "cell_type": "code",
   "execution_count": 42,
   "metadata": {},
   "outputs": [],
   "source": [
    "import tiktoken"
   ]
  },
  {
   "cell_type": "code",
   "execution_count": 41,
   "metadata": {},
   "outputs": [],
   "source": [
    "enc = tiktoken.encoding_for_model(\"text-embedding-ada-002\")"
   ]
  },
  {
   "cell_type": "code",
   "execution_count": 43,
   "metadata": {},
   "outputs": [
    {
     "name": "stdout",
     "output_type": "stream",
     "text": [
      "15480\n"
     ]
    }
   ],
   "source": [
    "total_tokens = sum([len(enc.encode(chunk)) for chunk in plain_text_chunks])\n",
    "print(total_tokens)"
   ]
  },
  {
   "cell_type": "code",
   "execution_count": 44,
   "metadata": {},
   "outputs": [
    {
     "name": "stdout",
     "output_type": "stream",
     "text": [
      "0.0061920000000000005\n"
     ]
    }
   ],
   "source": [
    "cost = (total_tokens/1000) * 0.0004 \n",
    "print(cost)"
   ]
  },
  {
   "cell_type": "code",
   "execution_count": 46,
   "metadata": {},
   "outputs": [],
   "source": [
    "import openai"
   ]
  },
  {
   "cell_type": "code",
   "execution_count": 47,
   "metadata": {},
   "outputs": [],
   "source": [
    "from dotenv import dotenv_values\n",
    "config = dotenv_values(\".env\")\n",
    "openai.api_key = config[\"OPENAI_API_KEY\"]"
   ]
  },
  {
   "cell_type": "code",
   "execution_count": 48,
   "metadata": {},
   "outputs": [],
   "source": [
    "def get_embedding(text, model=\"text-embedding-ada-002\"):\n",
    "   text = text.replace(\"\\n\", \" \")\n",
    "   return openai.Embedding.create(input = [text], model=model)['data'][0]['embedding']\n"
   ]
  },
  {
   "attachments": {},
   "cell_type": "markdown",
   "metadata": {},
   "source": [
    "CONNECT TO PINECONE\n"
   ]
  },
  {
   "cell_type": "code",
   "execution_count": 50,
   "metadata": {},
   "outputs": [],
   "source": [
    "import pinecone"
   ]
  },
  {
   "cell_type": "code",
   "execution_count": 51,
   "metadata": {},
   "outputs": [],
   "source": [
    "pinecone.init(api_key= config[\"PINECONE_KEY\"],\n",
    "              environment=\"us-west4-gcp-free\")"
   ]
  },
  {
   "cell_type": "code",
   "execution_count": 55,
   "metadata": {},
   "outputs": [],
   "source": [
    "index = pinecone.Index(\"chris\")"
   ]
  },
  {
   "cell_type": "code",
   "execution_count": 56,
   "metadata": {},
   "outputs": [
    {
     "data": {
      "text/plain": [
       "{'dimension': 1536,\n",
       " 'index_fullness': 0.0,\n",
       " 'namespaces': {'': {'vector_count': 206}},\n",
       " 'total_vector_count': 206}"
      ]
     },
     "execution_count": 56,
     "metadata": {},
     "output_type": "execute_result"
    }
   ],
   "source": [
    "index.describe_index_stats()"
   ]
  },
  {
   "cell_type": "code",
   "execution_count": 57,
   "metadata": {},
   "outputs": [],
   "source": [
    "def addData(web_data,url):\n",
    "    id  = index.describe_index_stats()['total_vector_count']\n",
    "    for i in range(len(web_data)):\n",
    "        chunk=web_data[i]\n",
    "        chunkInfo=(str(id+i),\n",
    "                get_embedding(chunk,model=\"text-embedding-ada-002\"),\n",
    "                {'title': url,'context': chunk})\n",
    "        index.upsert(vectors=[chunkInfo])\n",
    "     "
   ]
  },
  {
   "cell_type": "code",
   "execution_count": 58,
   "metadata": {},
   "outputs": [],
   "source": [
    "addData(plain_text_chunks,url)"
   ]
  },
  {
   "attachments": {},
   "cell_type": "markdown",
   "metadata": {},
   "source": [
    "QUERY EMBEDDINGS\n"
   ]
  },
  {
   "cell_type": "code",
   "execution_count": 59,
   "metadata": {},
   "outputs": [],
   "source": [
    "def find_match(query,k):\n",
    "    query_em = get_embedding(query,model= \"text-embedding-ada-002\")\n",
    "    result = index.query(query_em, top_k=k, includeMetadata=True)\n",
    "    \n",
    "    return [result['matches'][i]['metadata']['title'] for i in range(k)],[result['matches'][i]['metadata']['context'] for i in range(k)]"
   ]
  },
  {
   "cell_type": "code",
   "execution_count": 62,
   "metadata": {},
   "outputs": [
    {
     "data": {
      "text/plain": [
       "(['https://en.wikipedia.org/wiki/Chris_Martin',\n",
       "  'https://ewzrjnlqbkhwhkwjjsrl.supabase.co'],\n",
       " ['Coldplay. For other people, see Chris Martin (disambiguation).English singer-songwriter (born 1977)Chris MartinMartin performing with Coldplay in 2017BornChristopher Anthony John Martin (1977-03-02) 2 March 1977 (age\\xa046)Exeter, Devon, EnglandAlma\\xa0materUniversity College LondonOccupationsSingersongwritermusicianproducerphilanthropistYears\\xa0active1997–presentSpouseGwyneth Paltrow\\u200b \\u200b(m.\\xa02003; div.\\xa02016)\\u200bPartner(s)Dakota Johnson(2017–present)Children2AwardsFull listMusical careerOriginLondon, EnglandGenresAlternative rockpop rockpost-BritpoppopInstrumentsVocalspianokeyboardsguitarharmonicaLabelsParlophoneAtlanticCapitolMember ofColdplayMusical artistWebsitecoldplay.comSignatureChristopher Anthony John Martin (born 2 March 1977) is an English singer-songwriter and musician. He is best known as the lead vocalist, pianist, rhythm guitarist and co-founder of the rock band Coldplay. Born in Exeter, Devon, he went to University College London, where he formed the band with classmates Jonny Buckland, Guy Berryman and Will Champion. They found worldwide fame with the release of the song \"Yellow\" in 2000, receiving acclaim for albums such as A Rush of Blood to the Head (2002), Viva la Vida or Death and All His Friends (2008) and others. He won seven Grammy Awards and nine Brit Awards as part of the band. They have sold over 100 million albums worldwide as of 2021,[a] making them the most successful group of the 21st century.[3] Martin appeared on Debrett\\'s 2017 list of the most influential people in the United Kingdom.[4]Early life[edit]Christopher Anthony John Martin was born on 2 March 1977 in Exeter, Devon, England,[5] being the oldest of five children.[6] His father, Anthony John Martin, of Whitestone House, Exeter,[7] is a retired chartered accountant, and his mother, Alison Martin, who is from Zimbabwe, is a music teacher.[8] His family\\'s caravan and motorhome sales business, Martin\\'s of Exeter, was founded in 1929 by his grandfather John Besley Martin, CBE (a High',\n",
       "  'Coldplay. For other people, see Chris Martin (disambiguation).English singer-songwriter (born 1977)Chris MartinMartin performing with Coldplay in 2017BornChristopher Anthony John Martin (1977-03-02) 2 March 1977 (age\\xa046)Exeter, Devon, EnglandAlma\\xa0materUniversity College LondonOccupationsSingersongwritermusicianproducerphilanthropistYears\\xa0active1997–presentSpouseGwyneth Paltrow\\u200b \\u200b(m.\\xa02003; div.\\xa02016)\\u200bPartner(s)Dakota Johnson(2017–present)Children2AwardsFull listMusical careerOriginLondon, EnglandGenresAlternative rockpop rockpost-BritpoppopInstrumentsVocalspianokeyboardsguitarharmonicaLabelsParlophoneAtlanticCapitolMember ofColdplayMusical artistWebsitecoldplay.comSignatureChristopher Anthony John Martin (born 2 March 1977) is an English singer-songwriter and musician. He is best known as the lead vocalist, pianist, rhythm guitarist and co-founder of the rock band Coldplay. Born in Exeter, Devon, he went to University College London, where he formed the band with classmates Jonny Buckland, Guy Berryman and Will Champion. They found worldwide fame with the release of the song \"Yellow\" in 2000, receiving acclaim for albums such as A Rush of Blood to the Head (2002), Viva la Vida or Death and All His Friends (2008) and others. He won seven Grammy Awards and nine Brit Awards as part of the band. They have sold over 100 million albums worldwide as of 2021,[a] making them the most successful group of the 21st century.[3] Martin appeared on Debrett\\'s 2017 list of the most influential people in the United Kingdom.[4]Early life[edit]Christopher Anthony John Martin was born on 2 March 1977 in Exeter, Devon, England,[5] being the oldest of five children.[6] His father, Anthony John Martin, of Whitestone House, Exeter,[7] is a retired chartered accountant, and his mother, Alison Martin, who is from Zimbabwe, is a music teacher.[8] His family\\'s caravan and motorhome sales business, Martin\\'s of Exeter, was founded in 1929 by his grandfather John Besley Martin, CBE (a High'])"
      ]
     },
     "execution_count": 62,
     "metadata": {},
     "output_type": "execute_result"
    }
   ],
   "source": [
    "find_match(\"Does Chris martin have children?\",2)"
   ]
  },
  {
   "attachments": {},
   "cell_type": "markdown",
   "metadata": {},
   "source": [
    "PROMPT CREATION\n"
   ]
  },
  {
   "cell_type": "code",
   "execution_count": 63,
   "metadata": {},
   "outputs": [],
   "source": [
    "def create_prompt(context,query):\n",
    "    header = \"Answer the question as truthfully as possible using the provided context, and if the answer is not contained within the text and requires some latest information to be updated, print 'Sorry Not Sufficient context to answer query' \\n\"\n",
    "    return header + context + \"\\n\\n\" + query + \"\\n\"\n",
    "\n",
    "def generate_answer(prompt):\n",
    "    response = openai.Completion.create(\n",
    "    model=\"text-davinci-003\",\n",
    "    prompt=prompt,\n",
    "    temperature=0,\n",
    "    max_tokens=256,\n",
    "    top_p=1,\n",
    "    frequency_penalty=0,\n",
    "    presence_penalty=0,\n",
    "    stop = [' END']\n",
    "    )\n",
    "    return (response.choices[0].text).strip()"
   ]
  },
  {
   "cell_type": "code",
   "execution_count": 70,
   "metadata": {},
   "outputs": [],
   "source": [
    "query = \"Who is chris martin's wife?\"\n",
    "docs,res = find_match(query,2)"
   ]
  },
  {
   "cell_type": "code",
   "execution_count": 71,
   "metadata": {},
   "outputs": [
    {
     "name": "stdout",
     "output_type": "stream",
     "text": [
      "Answer the question as truthfully as possible using the provided context, and if the answer is not contained within the text and requires some latest information to be updated, print 'Sorry Not Sufficient context to answer query' \n",
      "Coldplay. For other people, see Chris Martin (disambiguation).English singer-songwriter (born 1977)Chris MartinMartin performing with Coldplay in 2017BornChristopher Anthony John Martin (1977-03-02) 2 March 1977 (age 46)Exeter, Devon, EnglandAlma materUniversity College LondonOccupationsSingersongwritermusicianproducerphilanthropistYears active1997–presentSpouseGwyneth Paltrow​ ​(m. 2003; div. 2016)​Partner(s)Dakota Johnson(2017–present)Children2AwardsFull listMusical careerOriginLondon, EnglandGenresAlternative rockpop rockpost-BritpoppopInstrumentsVocalspianokeyboardsguitarharmonicaLabelsParlophoneAtlanticCapitolMember ofColdplayMusical artistWebsitecoldplay.comSignatureChristopher Anthony John Martin (born 2 March 1977) is an English singer-songwriter and musician. He is best known as the lead vocalist, pianist, rhythm guitarist and co-founder of the rock band Coldplay. Born in Exeter, Devon, he went to University College London, where he formed the band with classmates Jonny Buckland, Guy Berryman and Will Champion. They found worldwide fame with the release of the song \"Yellow\" in 2000, receiving acclaim for albums such as A Rush of Blood to the Head (2002), Viva la Vida or Death and All His Friends (2008) and others. He won seven Grammy Awards and nine Brit Awards as part of the band. They have sold over 100 million albums worldwide as of 2021,[a] making them the most successful group of the 21st century.[3] Martin appeared on Debrett's 2017 list of the most influential people in the United Kingdom.[4]Early life[edit]Christopher Anthony John Martin was born on 2 March 1977 in Exeter, Devon, England,[5] being the oldest of five children.[6] His father, Anthony John Martin, of Whitestone House, Exeter,[7] is a retired chartered accountant, and his mother, Alison Martin, who is from Zimbabwe, is a music teacher.[8] His family's caravan and motorhome sales business, Martin's of Exeter, was founded in 1929 by his grandfather John Besley Martin, CBE (a High\n",
      "\n",
      "Coldplay. For other people, see Chris Martin (disambiguation).English singer-songwriter (born 1977)Chris MartinMartin performing with Coldplay in 2017BornChristopher Anthony John Martin (1977-03-02) 2 March 1977 (age 46)Exeter, Devon, EnglandAlma materUniversity College LondonOccupationsSingersongwritermusicianproducerphilanthropistYears active1997–presentSpouseGwyneth Paltrow​ ​(m. 2003; div. 2016)​Partner(s)Dakota Johnson(2017–present)Children2AwardsFull listMusical careerOriginLondon, EnglandGenresAlternative rockpop rockpost-BritpoppopInstrumentsVocalspianokeyboardsguitarharmonicaLabelsParlophoneAtlanticCapitolMember ofColdplayMusical artistWebsitecoldplay.comSignatureChristopher Anthony John Martin (born 2 March 1977) is an English singer-songwriter and musician. He is best known as the lead vocalist, pianist, rhythm guitarist and co-founder of the rock band Coldplay. Born in Exeter, Devon, he went to University College London, where he formed the band with classmates Jonny Buckland, Guy Berryman and Will Champion. They found worldwide fame with the release of the song \"Yellow\" in 2000, receiving acclaim for albums such as A Rush of Blood to the Head (2002), Viva la Vida or Death and All His Friends (2008) and others. He won seven Grammy Awards and nine Brit Awards as part of the band. They have sold over 100 million albums worldwide as of 2021,[a] making them the most successful group of the 21st century.[3] Martin appeared on Debrett's 2017 list of the most influential people in the United Kingdom.[4]Early life[edit]Christopher Anthony John Martin was born on 2 March 1977 in Exeter, Devon, England,[5] being the oldest of five children.[6] His father, Anthony John Martin, of Whitestone House, Exeter,[7] is a retired chartered accountant, and his mother, Alison Martin, who is from Zimbabwe, is a music teacher.[8] His family's caravan and motorhome sales business, Martin's of Exeter, was founded in 1929 by his grandfather John Besley Martin, CBE (a High\n",
      "\n",
      "Who is chris martin's wife?\n",
      "\n"
     ]
    }
   ],
   "source": [
    "context= \"\\n\\n\".join(res)\n",
    "prompt = create_prompt(context,query)\n",
    "print(prompt)\n",
    "     "
   ]
  },
  {
   "cell_type": "code",
   "execution_count": 72,
   "metadata": {},
   "outputs": [
    {
     "name": "stdout",
     "output_type": "stream",
     "text": [
      "Gwyneth Paltrow​ ​(m. 2003; div. 2016)​\n"
     ]
    }
   ],
   "source": [
    "reply = generate_answer(prompt)\n",
    "print(reply)"
   ]
  }
 ],
 "metadata": {
  "kernelspec": {
   "display_name": "Python 3",
   "language": "python",
   "name": "python3"
  },
  "language_info": {
   "codemirror_mode": {
    "name": "ipython",
    "version": 3
   },
   "file_extension": ".py",
   "mimetype": "text/x-python",
   "name": "python",
   "nbconvert_exporter": "python",
   "pygments_lexer": "ipython3",
   "version": "3.11.3"
  },
  "orig_nbformat": 4
 },
 "nbformat": 4,
 "nbformat_minor": 2
}
